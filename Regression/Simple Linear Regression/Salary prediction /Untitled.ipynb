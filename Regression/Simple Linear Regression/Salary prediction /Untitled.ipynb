{
 "cells": [
  {
   "cell_type": "markdown",
   "id": "120974b1",
   "metadata": {},
   "source": [
    "# Simple Linear Regression "
   ]
  },
  {
   "cell_type": "markdown",
   "id": "c77d659e",
   "metadata": {},
   "source": [
    "## Importing the Libraries "
   ]
  },
  {
   "cell_type": "code",
   "execution_count": 4,
   "id": "bd171d17",
   "metadata": {},
   "outputs": [],
   "source": [
    "import matplotlib.pyplot as plt\n",
    "import numpy as np \n",
    "import pandas as pd "
   ]
  },
  {
   "cell_type": "markdown",
   "id": "6781a8e2",
   "metadata": {},
   "source": [
    "## Importing Dataset"
   ]
  },
  {
   "cell_type": "code",
   "execution_count": 5,
   "id": "026a61ce",
   "metadata": {},
   "outputs": [],
   "source": [
    "dataset = pd.read_csv(\"Salary_Data.csv\")"
   ]
  },
  {
   "cell_type": "code",
   "execution_count": 11,
   "id": "5aa3f464",
   "metadata": {},
   "outputs": [
    {
     "data": {
      "text/html": [
       "<div>\n",
       "<style scoped>\n",
       "    .dataframe tbody tr th:only-of-type {\n",
       "        vertical-align: middle;\n",
       "    }\n",
       "\n",
       "    .dataframe tbody tr th {\n",
       "        vertical-align: top;\n",
       "    }\n",
       "\n",
       "    .dataframe thead th {\n",
       "        text-align: right;\n",
       "    }\n",
       "</style>\n",
       "<table border=\"1\" class=\"dataframe\">\n",
       "  <thead>\n",
       "    <tr style=\"text-align: right;\">\n",
       "      <th></th>\n",
       "      <th>YearsExperience</th>\n",
       "      <th>Salary</th>\n",
       "    </tr>\n",
       "  </thead>\n",
       "  <tbody>\n",
       "    <tr>\n",
       "      <th>0</th>\n",
       "      <td>1.1</td>\n",
       "      <td>39343.0</td>\n",
       "    </tr>\n",
       "    <tr>\n",
       "      <th>1</th>\n",
       "      <td>1.3</td>\n",
       "      <td>46205.0</td>\n",
       "    </tr>\n",
       "    <tr>\n",
       "      <th>2</th>\n",
       "      <td>1.5</td>\n",
       "      <td>37731.0</td>\n",
       "    </tr>\n",
       "    <tr>\n",
       "      <th>3</th>\n",
       "      <td>2.0</td>\n",
       "      <td>43525.0</td>\n",
       "    </tr>\n",
       "    <tr>\n",
       "      <th>4</th>\n",
       "      <td>2.2</td>\n",
       "      <td>39891.0</td>\n",
       "    </tr>\n",
       "  </tbody>\n",
       "</table>\n",
       "</div>"
      ],
      "text/plain": [
       "   YearsExperience   Salary\n",
       "0              1.1  39343.0\n",
       "1              1.3  46205.0\n",
       "2              1.5  37731.0\n",
       "3              2.0  43525.0\n",
       "4              2.2  39891.0"
      ]
     },
     "execution_count": 11,
     "metadata": {},
     "output_type": "execute_result"
    }
   ],
   "source": [
    "dataset.head()"
   ]
  },
  {
   "cell_type": "code",
   "execution_count": 26,
   "id": "69926411",
   "metadata": {},
   "outputs": [
    {
     "name": "stdout",
     "output_type": "stream",
     "text": [
      "(30,)\n"
     ]
    },
    {
     "data": {
      "text/plain": [
       "(30, 1)"
      ]
     },
     "execution_count": 26,
     "metadata": {},
     "output_type": "execute_result"
    }
   ],
   "source": [
    "x = dataset.iloc[:,0].values\n",
    "print(np.shape(x))\n",
    "x= x.reshape(-1,1)\n",
    "x.shape"
   ]
  },
  {
   "cell_type": "code",
   "execution_count": 28,
   "id": "ebd751af",
   "metadata": {},
   "outputs": [
    {
     "data": {
      "text/plain": [
       "(30, 1)"
      ]
     },
     "execution_count": 28,
     "metadata": {},
     "output_type": "execute_result"
    }
   ],
   "source": [
    "y = dataset.iloc[:,1].values\n",
    "y=y.reshape(-1,1)\n",
    "y.shape"
   ]
  },
  {
   "cell_type": "markdown",
   "id": "de377f5c",
   "metadata": {},
   "source": [
    "## Splitting the data set in test and triaing set "
   ]
  },
  {
   "cell_type": "code",
   "execution_count": 29,
   "id": "e9588f8c",
   "metadata": {},
   "outputs": [],
   "source": [
    "from sklearn.model_selection import train_test_split\n",
    "x_train, x_test,y_train,y_test = train_test_split(x,y,test_size=0.2,random_state =0)"
   ]
  },
  {
   "cell_type": "markdown",
   "id": "e2a4485f",
   "metadata": {},
   "source": [
    "## Traning the Simple Linear Regression model "
   ]
  },
  {
   "cell_type": "code",
   "execution_count": 30,
   "id": "a8b25ed5",
   "metadata": {},
   "outputs": [],
   "source": [
    "from sklearn.linear_model import LinearRegression "
   ]
  },
  {
   "cell_type": "code",
   "execution_count": 31,
   "id": "bcf7eea6",
   "metadata": {},
   "outputs": [
    {
     "data": {
      "text/plain": [
       "LinearRegression()"
      ]
     },
     "execution_count": 31,
     "metadata": {},
     "output_type": "execute_result"
    }
   ],
   "source": [
    "regressor = LinearRegression()\n",
    "regressor.fit(x_train,y_train)"
   ]
  },
  {
   "cell_type": "markdown",
   "id": "e9677981",
   "metadata": {},
   "source": [
    "## Prediction "
   ]
  },
  {
   "cell_type": "code",
   "execution_count": 33,
   "id": "c0b45e11",
   "metadata": {},
   "outputs": [],
   "source": [
    "y_pred = regressor.predict(x_test)"
   ]
  },
  {
   "cell_type": "code",
   "execution_count": 41,
   "id": "796d814a",
   "metadata": {},
   "outputs": [],
   "source": [
    "x_pred = regressor.predict(x_train)"
   ]
  },
  {
   "cell_type": "markdown",
   "id": "ca88b106",
   "metadata": {},
   "source": [
    "## Ploting training results"
   ]
  },
  {
   "cell_type": "code",
   "execution_count": 43,
   "id": "d4812022",
   "metadata": {},
   "outputs": [
    {
     "data": {
      "image/png": "[encoded data removed]",
      "text/plain": [
       "<Figure size 432x288 with 1 Axes>"
      ]
     },
     "metadata": {
      "needs_background": "light"
     },
     "output_type": "display_data"
    }
   ],
   "source": [
    "plt.scatter(x_train, y_train, color = 'red')\n",
    "plt.plot(x_train,x_pred,color = 'blue' )\n",
    "plt.title('Salary vs Years of Experience ')\n",
    "plt.show()"
   ]
  },
  {
   "cell_type": "markdown",
   "id": "a9579d6c",
   "metadata": {},
   "source": [
    "## Ploting test Results "
   ]
  },
  {
   "cell_type": "code",
   "execution_count": 45,
   "id": "4d4eb06c",
   "metadata": {},
   "outputs": [
    {
     "data": {
      "image/png": "[encoded data removed]",
      "text/plain": [
       "<Figure size 432x288 with 1 Axes>"
      ]
     },
     "metadata": {
      "needs_background": "light"
     },
     "output_type": "display_data"
    }
   ],
   "source": [
    "plt.scatter(x_test,y_test,color = 'blue')\n",
    "plt.plot(x_test,y_pred,color = 'green')\n",
    "plt.show()"
   ]
  },
  {
   "cell_type": "markdown",
   "id": "25c6cae2",
   "metadata": {},
   "source": [
    "## Making a single value prediction "
   ]
  },
  {
   "cell_type": "code",
   "execution_count": 64,
   "id": "23a782ac",
   "metadata": {},
   "outputs": [
    {
     "name": "stdout",
     "output_type": "stream",
     "text": [
      "    YearsExperience    Salary\n",
      "29             10.5  121872.0\n"
     ]
    }
   ],
   "source": [
    "print(dataset.tail(1))"
   ]
  },
  {
   "cell_type": "code",
   "execution_count": 71,
   "id": "0b4065c1",
   "metadata": {},
   "outputs": [
    {
     "name": "stdout",
     "output_type": "stream",
     "text": [
      "the original vlue is [121872.] the predicted value is [[124562.13798128]]\n"
     ]
    }
   ],
   "source": [
    "print(f\"the original vlue is {y[-1]} the predicted value of 10.5 years Experience is {regressor.predict([[10.5]])}\")"
   ]
  },
  {
   "cell_type": "markdown",
   "id": "1a707662",
   "metadata": {},
   "source": [
    "## Finding the Equation Our line "
   ]
  },
  {
   "cell_type": "code",
   "execution_count": 76,
   "id": "0bd8e93f",
   "metadata": {},
   "outputs": [
    {
     "name": "stdout",
     "output_type": "stream",
     "text": [
      "[[9312.57512673]]\n"
     ]
    }
   ],
   "source": [
    "print(regressor.coef_)"
   ]
  },
  {
   "cell_type": "code",
   "execution_count": 79,
   "id": "c4801932",
   "metadata": {},
   "outputs": [
    {
     "name": "stdout",
     "output_type": "stream",
     "text": [
      "[26780.09915063]\n"
     ]
    }
   ],
   "source": [
    "print(regressor.intercept_)"
   ]
  },
  {
   "cell_type": "markdown",
   "id": "b9c9df68",
   "metadata": {},
   "source": [
    "###  Simple Linear Regression \n",
    "the eqution is :\n",
    "\n",
    "                y = m*x + c\n",
    "                \n",
    "Therefore, the equation of our simple linear regression model is:<BR>\n",
    "$$Salary=9312.57512673×YearsExperience+26780.09915063$$\n",
    "\n",
    "**Important Note:** To get these coefficients we called the \"coef_\" and \"intercept_\" attributes from our regressor object. Attributes in Python are different than methods and usually return a simple value or an array of values."
   ]
  },
  {
   "cell_type": "markdown",
   "id": "75833732",
   "metadata": {},
   "source": []
  }
 ],
 "metadata": {
  "kernelspec": {
   "display_name": "Python 3.8.10 64-bit ('Tensflow_m1': conda)",
   "language": "python",
   "name": "python3810jvsc74a57bd0d831c2d24441031cca94d340b013336142f7d1230b8c16f4f05968ed3e64b669"
  },
  "language_info": {
   "codemirror_mode": {
    "name": "ipython",
    "version": 3
   },
   "file_extension": ".py",
   "mimetype": "text/x-python",
   "name": "python",
   "nbconvert_exporter": "python",
   "pygments_lexer": "ipython3",
   "version": "3.8.10"
  }
 },
 "nbformat": 4,
 "nbformat_minor": 5
}
